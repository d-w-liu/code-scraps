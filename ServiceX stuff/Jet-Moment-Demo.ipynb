{
 "cells": [
  {
   "cell_type": "markdown",
   "metadata": {},
   "source": [
    "# Simple LArQuality query example\n",
    "\n",
    "First, do our imports for ServiceX to function (this with the xAOD backend). Also, matplotlib so we can plot things."
   ]
  },
  {
   "cell_type": "code",
   "execution_count": 1,
   "metadata": {},
   "outputs": [],
   "source": [
    "import servicex\n",
    "from servicex import ServiceXDataset\n",
    "from func_adl_servicex import ServiceXDatasetSource\n",
    "import matplotlib.pyplot as plt"
   ]
  },
  {
   "cell_type": "markdown",
   "metadata": {},
   "source": [
    "Here, we will retrieve the actual LArQuality from a Monte Carlo dataset. We only pull from jets that have a pt > 20 GeV and a eta < 4.5 GeV."
   ]
  },
  {
   "cell_type": "code",
   "execution_count": 7,
   "metadata": {},
   "outputs": [
    {
     "data": {
      "application/vnd.jupyter.widget-view+json": {
       "model_id": "f6619442ccd44e1988924c3f546d7a11",
       "version_major": 2,
       "version_minor": 0
      },
      "text/plain": [
       "HBox(children=(FloatProgress(value=0.0, description='mc16_13TeV:mc16_13TeV.364700.Pythia8EvtGen_A14NNPDF23LO_j…"
      ]
     },
     "metadata": {},
     "output_type": "display_data"
    },
    {
     "data": {
      "application/vnd.jupyter.widget-view+json": {
       "model_id": "e3fedf2ecb5e4fe6a3fa0835d518749b",
       "version_major": 2,
       "version_minor": 0
      },
      "text/plain": [
       "HBox(children=(FloatProgress(value=0.0, description='        Downloaded', layout=Layout(flex='2'), max=9000000…"
      ]
     },
     "metadata": {},
     "output_type": "display_data"
    }
   ],
   "source": [
    "dataset = ServiceXDataset(\"mc16_13TeV:mc16_13TeV.364700.Pythia8EvtGen_A14NNPDF23LO_jetjet_JZ0WithSW.deriv.DAOD_JETM1.e7142_s3126_r9364_p4128\")\n",
    "query = ServiceXDatasetSource(dataset) \\\n",
    "    .SelectMany('lambda e: e.Jets(\"AntiKt4EMTopoJets\")') \\\n",
    "    .Where('lambda j: j.pt()/1000>20 and abs(j.eta()/1000)<4.5') \\\n",
    "    .Select('lambda j: j.getAttributeFloat(\"LArQuality\")') \\\n",
    "    .AsPandasDF(\"JetMoment\") \\\n",
    "    .value()"
   ]
  },
  {
   "cell_type": "markdown",
   "metadata": {},
   "source": [
    "Finally, we plot it. LArQuality seems to be a ratio of some kind, so presumably it's unitless. I don't really know any of the physics here."
   ]
  },
  {
   "cell_type": "code",
   "execution_count": 11,
   "metadata": {},
   "outputs": [
    {
     "data": {
      "image/png": "[encoded data removed]",
      "text/plain": [
       "<Figure size 864x432 with 1 Axes>"
      ]
     },
     "metadata": {
      "needs_background": "light"
     },
     "output_type": "display_data"
    }
   ],
   "source": [
    "plt.figure(figsize=(12, 6))\n",
    "plt.hist(query.JetMoment, bins=100, range=(0,1.20), density=True, histtype = 'step')\n",
    "plt.yscale('log')\n",
    "plt.title('LArQuality Counts')\n",
    "plt.xlabel('LArQuality')\n",
    "plt.ylabel('Count')\n",
    "plt.show()"
   ]
  },
  {
   "cell_type": "code",
   "execution_count": null,
   "metadata": {},
   "outputs": [],
   "source": []
  }
 ],
 "metadata": {
  "kernelspec": {
   "display_name": "Python 3",
   "language": "python",
   "name": "python3"
  },
  "language_info": {
   "codemirror_mode": {
    "name": "ipython",
    "version": 3
   },
   "file_extension": ".py",
   "mimetype": "text/x-python",
   "name": "python",
   "nbconvert_exporter": "python",
   "pygments_lexer": "ipython3",
   "version": "3.7.7"
  }
 },
 "nbformat": 4,
 "nbformat_minor": 4
}
