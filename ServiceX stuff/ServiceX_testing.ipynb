{
 "cells": [
  {
   "cell_type": "code",
   "execution_count": 1,
   "metadata": {},
   "outputs": [
    {
     "name": "stdout",
     "output_type": "stream",
     "text": [
      "All modules imported.\n"
     ]
    }
   ],
   "source": [
    "from config import running_backend, default_container  # noqa\n",
    "from servicex_test_utils import wait_for_request_done, get_servicex_request_data\n",
    "import requests\n",
    "import servicex\n",
    "\n",
    "print(\"All modules imported.\")"
   ]
  },
  {
   "cell_type": "code",
   "execution_count": 5,
   "metadata": {},
   "outputs": [
    {
     "name": "stdout",
     "output_type": "stream",
     "text": [
      "Simple jets test defined.\n"
     ]
    }
   ],
   "source": [
    "# This can take a very long time - 15-30 minutes depending on the quality of your connection.\n",
    "# If it is taking too long, most likely the problem is is the downloading - so look at the log\n",
    "# from the rucio downloader to track progress (yes, an obvious feature request).\n",
    "def test_func_adl_query_simple_jets(running_backend):\n",
    "\tquery = \"(call ResultTTree (call Select (call SelectMany (call EventDataset (list 'localds:bogus')) (lambda (list e) (call (attr e 'Jets') 'AntiKt4EMTopoJets'))) (lambda (list j) (/ (call (attr j 'pt')) 1000.0))) (list 'JetPt') 'analysis' 'junk.root')\"\n",
    "\tdataset = \"mc15_13TeV:mc15_13TeV.361106.PowhegPythia8EvtGen_AZNLOCTEQ6L1_Zee.merge.DAOD_STDM3.e3601_s2576_s2132_r6630_r6264_p2363_tid05630052_00\"\n",
    "\tr = servicex.get_data(query , dataset, running_backend)\n",
    "\tprint(r)\n",
    "    \n",
    "print(\"Simple jets test defined.\")"
   ]
  },
  {
   "cell_type": "code",
   "execution_count": 8,
   "metadata": {},
   "outputs": [
    {
     "name": "stdout",
     "output_type": "stream",
     "text": [
      "            JetPt\n",
      "entry            \n",
      "0       38.065707\n",
      "1       31.967096\n",
      "2        7.881337\n",
      "3        6.669581\n",
      "4        5.624053\n",
      "...           ...\n",
      "710183  42.926141\n",
      "710184  30.815709\n",
      "710185   6.348002\n",
      "710186   5.472711\n",
      "710187   5.212714\n",
      "\n",
      "[10501572 rows x 1 columns]\n"
     ]
    }
   ],
   "source": [
    "test_func_adl_query_simple_jets(\"http://localhost:5000/servicex\")"
   ]
  },
  {
   "cell_type": "code",
   "execution_count": 2,
   "metadata": {},
   "outputs": [
    {
     "name": "stdout",
     "output_type": "stream",
     "text": [
      "Leptons test defined.\n"
     ]
    }
   ],
   "source": [
    "def test_func_adl_query_electrons_and_muons (running_backend):\n",
    "\tquery = \"(call ResultTTree (call Select (call Select (call EventDataset (list 'localds:bogus')) (lambda (list e) (list (call (attr e 'Electrons') 'Electrons') (call (attr e 'Muons') 'Muons')))) (lambda (list e) (list (call (attr (subscript e 0) 'Select') (lambda (list ele) (call (attr ele 'e')))) (call (attr (subscript e 0) 'Select') (lambda (list ele) (call (attr ele 'pt')))) (call (attr (subscript e 0) 'Select') (lambda (list ele) (call (attr ele 'phi')))) (call (attr (subscript e 0) 'Select') (lambda (list ele) (call (attr ele 'eta')))) (call (attr (subscript e 1) 'Select') (lambda (list mu) (call (attr mu 'e')))) (call (attr (subscript e 1) 'Select') (lambda (list mu) (call (attr mu 'pt')))) (call (attr (subscript e 1) 'Select') (lambda (list mu) (call (attr mu 'phi')))) (call (attr (subscript e 1) 'Select') (lambda (list mu) (call (attr mu 'eta'))))))) (list 'e_E' 'e_pt' 'e_phi' 'e_eta' 'mu_E' 'mu_pt' 'mu_phi' 'mu_eta') 'forkme' 'dude.root')\"\n",
    "\tdataset = \"mc15_13TeV:mc15_13TeV.361106.PowhegPythia8EvtGen_AZNLOCTEQ6L1_Zee.merge.DAOD_STDM3.e3601_s2576_s2132_r6630_r6264_p2363_tid05630052_00\",\n",
    "\tr = servicex.get_data(query, dataset, data_type = \"awkward\", servicex_endpoint = running_backend)\n",
    "\tprint(r)\n",
    "    \n",
    "print(\"Leptons test defined.\")"
   ]
  },
  {
   "cell_type": "code",
   "execution_count": 3,
   "metadata": {},
   "outputs": [
    {
     "name": "stdout",
     "output_type": "stream",
     "text": [
      "{b'e_E': <JaggedArray [[11678.290453057432] [124352.58759560794 5018.021807808239 28260.79313076634 4866.388771162408] [] ... [87904.8107812525] [40314.797316500335 7992.438995660946 36331.59386739688] [51487.39343190488 39501.75468717717 3699.8718302548295 4933.590287150619]] at 0x01f0c4596408>, b'e_pt': <JaggedArray [[5794.58154296875] [36922.66796875 4514.7587890625 4671.44482421875 3811.003662109375] [] ... [32221.91015625] [36105.95703125 7529.92919921875 15938.79296875] [45225.15234375 35084.0546875 3205.356689453125 3975.499267578125]] at 0x01f0b2e4c948>, b'e_phi': <JaggedArray [[-0.7931161522865295] [2.266842842102051 0.4230227470397949 -0.7722882032394409 3.0246007442474365] [] ... [-1.4512096643447876] [-0.9889014363288879 0.11618456989526749 1.0146763324737549] [-1.4428361654281616 1.6021798849105835 -0.3182399570941925 -0.032530639320611954]] at 0x01f0c4eaad88>, b'e_eta': <JaggedArray [[-1.3257930278778076] [-1.8846356868743896 0.4678869843482971 -2.4862523078918457 -0.7280337810516357] [] ... [1.6613333225250244] [0.4782724678516388 0.3487238585948944 1.465065360069275] [-0.5203566551208496 0.4967098832130432 -0.5485732555389404 0.6810235381126404]] at 0x01f0c4eaa248>, b'mu_E': <JaggedArray [[12508.887514928687] [68003.72402027207 132394.34870029808] [] ... [] [] []] at 0x01f0c4eaa3c8>, b'mu_pt': <JaggedArray [[6687.41845703125] [48828.21875 22644.7578125] [] ... [] [] []] at 0x01f0c4eaa608>, b'mu_phi': <JaggedArray [[2.9998934268951416] [1.9398573637008667 -1.791720986366272] [] ... [] [] []] at 0x01f0c4eaa508>, b'mu_eta': <JaggedArray [[-1.2387009859085083] [-0.8595364689826965 -2.451608180999756] [] ... [] [] []] at 0x01f0c4eaaf88>}\n"
     ]
    }
   ],
   "source": [
    "test_func_adl_query_electrons_and_muons(\"http://localhost:5000/servicex\")"
   ]
  },
  {
   "cell_type": "code",
   "execution_count": 5,
   "metadata": {},
   "outputs": [
    {
     "name": "stdout",
     "output_type": "stream",
     "text": [
      "Large jet tests defined.\n"
     ]
    }
   ],
   "source": [
    "def test_func_adl_query_simple_jets_large_sample(running_backend):\n",
    "    'Do not run this unless you have a large well connected system at your beck and call!!'\n",
    "\n",
    "    query = \"(call ResultTTree (call Select (call SelectMany (call EventDataset (list 'localds:bogus')) (lambda (list e) (call (attr e 'Jets') 'AntiKt4EMTopoJets'))) (lambda (list j) (/ (call (attr j 'pt')) 1000.0))) (list 'JetPt') 'analysis' 'junk.root')\"\n",
    "    dataset = \"data17_13TeV:data17_13TeV.periodK.physics_Main.PhysCont.DAOD_STDM7.grp22_v01_p3713\"\n",
    "    r = servicex.get_data(query, dataset, servicex_endpoint = running_backend)\n",
    "    print(r)\n",
    "\n",
    "print(\"Large jet tests defined.\")"
   ]
  },
  {
   "cell_type": "code",
   "execution_count": null,
   "metadata": {},
   "outputs": [],
   "source": [
    "test_func_adl_query_simple_jets_large_sample(\"http://localhost:5000/servicex\")"
   ]
  },
  {
   "cell_type": "code",
   "execution_count": null,
   "metadata": {},
   "outputs": [],
   "source": []
  }
 ],
 "metadata": {
  "kernelspec": {
   "display_name": "Python 3",
   "language": "python",
   "name": "python3"
  },
  "language_info": {
   "codemirror_mode": {
    "name": "ipython",
    "version": 3
   },
   "file_extension": ".py",
   "mimetype": "text/x-python",
   "name": "python",
   "nbconvert_exporter": "python",
   "pygments_lexer": "ipython3",
   "version": "3.7.7"
  }
 },
 "nbformat": 4,
 "nbformat_minor": 4
}
